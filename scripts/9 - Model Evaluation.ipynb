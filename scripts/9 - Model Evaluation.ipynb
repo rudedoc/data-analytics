{
 "cells": [
  {
   "cell_type": "code",
   "execution_count": 1,
   "id": "d5c10872",
   "metadata": {},
   "outputs": [
    {
     "name": "stdout",
     "output_type": "stream",
     "text": [
      "File found: ../data/Crime_Category_random_forest_model_150_15_399.pkl\n"
     ]
    }
   ],
   "source": [
    "# check for required file\n",
    "\n",
    "import os\n",
    "from pathlib import Path\n",
    "\n",
    "FILE_PATH = '../data/Crime_Category_random_forest_model_150_15_399.pkl'\n",
    "\n",
    "file_path = Path(FILE_PATH)\n",
    "\n",
    "# Check if the file exists\n",
    "if file_path.exists():\n",
    "    print(f\"File found: {file_path}\")\n",
    "else:\n",
    "    print(f\"File not found: {file_path}. Please ensure the file is downloaded correctly.\")\n",
    "    \n"
   ]
  },
  {
   "cell_type": "code",
   "execution_count": null,
   "id": "5d217c53",
   "metadata": {},
   "outputs": [],
   "source": [
    "import joblib\n",
    "\n",
    "# Load the trained model from the .pkl file\n",
    "loaded_model = joblib.load(FILE_PATH)\n",
    "\n",
    "# Now you can use the loaded model to make predictions\n",
    "y_pred_loaded = loaded_model.predict(X_test)\n",
    "\n",
    "# Evaluate the loaded model\n",
    "from sklearn.metrics import accuracy_score\n",
    "print(\"Accuracy of the loaded model:\", accuracy_score(y_test, y_pred_loaded))"
   ]
  }
 ],
 "metadata": {
  "kernelspec": {
   "display_name": "Python 3 (ipykernel)",
   "language": "python",
   "name": "python3"
  },
  "language_info": {
   "codemirror_mode": {
    "name": "ipython",
    "version": 3
   },
   "file_extension": ".py",
   "mimetype": "text/x-python",
   "name": "python",
   "nbconvert_exporter": "python",
   "pygments_lexer": "ipython3",
   "version": "3.11.5"
  }
 },
 "nbformat": 4,
 "nbformat_minor": 5
}
