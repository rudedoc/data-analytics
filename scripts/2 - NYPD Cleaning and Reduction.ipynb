{
 "cells": [
  {
   "cell_type": "code",
   "execution_count": 1,
   "id": "0f122506",
   "metadata": {},
   "outputs": [],
   "source": [
    "# NYPD Preparation and Exploration\n",
    "\n",
    "## Preparation\n",
    "# 1 - remove columns not relevant to exercise\n",
    "# 2 - Remove all data outside of range 2015-01-01 to 2019-12-31\n",
    "# 3 - Remove rows with NaN, (null), UNKNOWN values\n",
    "# 4 - map values like hour, severity score, offense super categories\n",
    "\n",
    "# Output: ../data/NYPD_Complaint_Data_Historic_Cleaned_Reduced.csv\n",
    "\n",
    "## Exploration"
   ]
  },
  {
   "cell_type": "code",
   "execution_count": 2,
   "id": "5aa1e6bc",
   "metadata": {},
   "outputs": [
    {
     "name": "stdout",
     "output_type": "stream",
     "text": [
      "File found: ../data/NYPD_Complaint_Data_Historic.csv\n"
     ]
    }
   ],
   "source": [
    "# check for required file\n",
    "\n",
    "import os\n",
    "from pathlib import Path\n",
    "\n",
    "FILE_PATH = '../data/NYPD_Complaint_Data_Historic.csv'\n",
    "\n",
    "file_path = Path(FILE_PATH)\n",
    "\n",
    "# Check if the file exists\n",
    "if file_path.exists():\n",
    "    print(f\"File found: {file_path}\")\n",
    "else:\n",
    "    print(f\"File not found: {file_path}. Please ensure the file is downloaded correctly.\")\n",
    "\n"
   ]
  },
  {
   "cell_type": "code",
   "execution_count": null,
   "id": "19bb5842",
   "metadata": {},
   "outputs": [
    {
     "name": "stderr",
     "output_type": "stream",
     "text": [
      "/var/folders/7b/c18lkd_95v345lvvmts66_k40000gn/T/ipykernel_86313/1355347080.py:5: DtypeWarning: Columns (0) have mixed types. Specify dtype option on import or set low_memory=False.\n",
      "  initial_df = pd.read_csv(FILE_PATH)\n"
     ]
    }
   ],
   "source": [
    "# Load the dataset\n",
    "import pandas as pd\n",
    "import numpy as np\n",
    "\n",
    "initial_df = pd.read_csv(FILE_PATH)\n",
    "\n",
    "initial_df.info()"
   ]
  },
  {
   "cell_type": "code",
   "execution_count": null,
   "id": "618d30f9",
   "metadata": {},
   "outputs": [],
   "source": [
    "# Columns to drop\n",
    "columns_to_drop = ['LAW_CAT_CD', 'CMPLNT_NUM', 'CMPLNT_TO_DT', 'CMPLNT_TO_TM', 'PD_CD', 'PD_DESC', 'CRM_ATPT_CPTD_CD', \n",
    "                   'JURIS_DESC', 'JURISDICTION_CODE', 'PARKS_NM', 'HADEVELOPT', 'HOUSING_PSA', 'LOC_OF_OCCUR_DESC', \n",
    "                   'RPT_DT', 'X_COORD_CD', 'Y_COORD_CD', 'TRANSIT_DISTRICT', 'Lat_Lon', 'KY_CD', 'ADDR_PCT_CD', 'STATION_NAME',\n",
    "                   'SUSP_AGE_GROUP', 'SUSP_RACE', 'SUSP_SEX', 'PATROL_BORO']\n",
    "\n",
    "# Drop the columns\n",
    "initial_df = initial_df.drop(columns=columns_to_drop)\n",
    "initial_df.info()"
   ]
  },
  {
   "cell_type": "code",
   "execution_count": null,
   "id": "f350ff55",
   "metadata": {},
   "outputs": [],
   "source": [
    "initial_df.head()"
   ]
  },
  {
   "cell_type": "code",
   "execution_count": null,
   "id": "1d384cd5",
   "metadata": {},
   "outputs": [],
   "source": [
    "# Remove older data\n",
    "# range 2015-01-01 to 2019-12-31 is non pandemic years\n",
    "# Alignment with Other Datasets\n",
    "\n",
    "initial_df['CMPLNT_FR_DT'] = pd.to_datetime(initial_df['CMPLNT_FR_DT'], errors='coerce')\n",
    "\n",
    "# Filter out records outside the range 2015-01-01 to 2019-12-31\n",
    "initial_df = initial_df[\n",
    "    (initial_df['CMPLNT_FR_DT'] >= pd.Timestamp('2015-01-01')) &\n",
    "    (initial_df['CMPLNT_FR_DT'] <= pd.Timestamp('2019-12-31'))\n",
    "]\n",
    "\n",
    "print(f\"Filtered data size for records between 2015 and 2019: {initial_df.shape[0]}\")\n",
    "\n",
    "\n",
    "\n",
    "initial_df = initial_df.drop(columns=['CMPLNT_FR_DT'])\n",
    "\n",
    "initial_df.head()"
   ]
  },
  {
   "cell_type": "code",
   "execution_count": null,
   "id": "fb400a61",
   "metadata": {},
   "outputs": [],
   "source": [
    "# Replace '(null)' with NaN\n",
    "initial_df.replace('(null)', np.nan, inplace=True)\n",
    "\n",
    "# Replace 'UNKNOWN' with NaN\n",
    "initial_df.replace('UNKNOWN', np.nan, inplace=True)\n",
    "\n",
    "# Count the number of NaN values per column\n",
    "nan_counts = initial_df.isna().sum()\n",
    "\n",
    "# Print the NaN counts\n",
    "print(nan_counts)\n",
    "\n",
    "initial_df = initial_df.dropna()\n",
    "\n",
    "# Count the number of NaN values per column\n",
    "nan_counts = initial_df.isna().sum()\n",
    "\n",
    "# Print the NaN counts\n",
    "print(nan_counts)"
   ]
  },
  {
   "cell_type": "code",
   "execution_count": null,
   "id": "ba4da26b",
   "metadata": {},
   "outputs": [],
   "source": [
    "print(f\"Cleaned data size: {initial_df.shape}\")"
   ]
  },
  {
   "cell_type": "code",
   "execution_count": null,
   "id": "4a61299c",
   "metadata": {},
   "outputs": [],
   "source": [
    "# Extract the hour from the time column using .loc to avoid the warning\n",
    "initial_df.loc[:, 'Hour'] = initial_df['CMPLNT_FR_TM'].str.split(':').str[0].astype(float)\n",
    "initial_df = initial_df.drop(columns=['CMPLNT_FR_TM'])\n",
    "\n",
    "# Map Severity Score\n",
    "# Map Crimes to a severity\n",
    "# Read the CSV file into a DataFrame\n",
    "severity_df = pd.read_csv('../mappings/offense_severity_scores.csv')\n",
    "\n",
    "severity_dict = severity_df.set_index('Offense')['Severity_Score'].to_dict()\n",
    "initial_df['OFNS_DESC_Severity_Score'] = initial_df['OFNS_DESC'].map(severity_dict)\n",
    "\n",
    "# Print the updated DataFrame to verify\n",
    "initial_df.head()"
   ]
  },
  {
   "cell_type": "code",
   "execution_count": null,
   "id": "99b20f2c",
   "metadata": {},
   "outputs": [],
   "source": [
    "crime_categories = {\n",
    "    \"Violent Crimes\": [\n",
    "        \"FELONY ASSAULT\", \"ROBBERY\", \"RAPE\", \"HOMICIDE-NEGLIGENT, UNCLASSIFIED\", \n",
    "        \"MURDER & NON-NEGL. MANSLAUGHTER\", \"HOMICIDE-NEGLIGENT-VEHICLE\", \"SEX CRIMES\", \n",
    "        \"ASSAULT 3 & RELATED OFFENSES\", \"KIDNAPPING & RELATED OFFENSES\", \"KIDNAPPING\", \n",
    "        \"KIDNAPPING AND RELATED OFFENSES\"\n",
    "    ],\n",
    "    \"Theft and Larceny\": [\n",
    "        \"GRAND LARCENY\", \"PETIT LARCENY\", \"THEFT-FRAUD\", \"GRAND LARCENY OF MOTOR VEHICLE\", \n",
    "        \"PETIT LARCENY OF MOTOR VEHICLE\", \"THEFT OF SERVICES\", \"OFFENSES INVOLVING FRAUD\"\n",
    "    ],\n",
    "    \"Property Crimes\": [\n",
    "        \"BURGLARY\", \"ARSON\", \"CRIMINAL MISCHIEF & RELATED OFFENSES\", \"POSSESSION OF STOLEN PROPERTY\", \n",
    "        \"MISCELLANEOUS PENAL LAW\", \"CRIMINAL TRESPASS\", \"UNAUTHORIZED USE OF A VEHICLE\"\n",
    "    ],\n",
    "    \"Drug and Alcohol-Related Offenses\": [\n",
    "        \"INTOXICATED & IMPAIRED DRIVING\", \"INTOXICATED/IMPAIRED DRIVING\", \"DANGEROUS DRUGS\", \n",
    "        \"UNDER THE INFLUENCE OF DRUGS\", \"LOITERING FOR DRUG PURPOSES\"\n",
    "    ],\n",
    "    \"Public Order and Administrative Offenses\": [\n",
    "        \"DISORDERLY CONDUCT\", \"LOITERING\", \"LOITERING/GAMBLING (CARDS, DICE)\", \n",
    "        \"OFFENSES AGAINST PUBLIC ADMINISTRATION\", \"ADMINISTRATIVE CODE\", \"ADMINISTRATIVE CODES\", \n",
    "        \"NEW YORK CITY HEALTH CODE\", \"AGRICULTURE & MKTS LAW-UNCLASSIFIED\", \"OTHER STATE LAWS\", \n",
    "        \"OTHER STATE LAWS (NON PENAL LAW)\"\n",
    "    ],\n",
    "    \"Fraud and Financial Crimes\": [\n",
    "        \"FORGERY\", \"FRAUDS\", \"FRAUDULENT ACCOSTING\", \"ANTICIPATORY OFFENSES\"\n",
    "    ],\n",
    "    \"Weapons and Dangerous Offenses\": [\n",
    "        \"DANGEROUS WEAPONS\", \"UNLAWFUL POSS. WEAP. ON SCHOOL\"\n",
    "    ],\n",
    "    \"Family and Personal Offenses\": [\n",
    "        \"OFFENSES AGAINST THE PERSON\", \"OFFENSES AGAINST MARRIAGE UNCL\", \n",
    "        \"OFFENSES RELATED TO CHILDREN\", \"CHILD ABANDONMENT/NON SUPPORT\"\n",
    "    ],\n",
    "    \"Negligence and Careless Acts\": [\n",
    "        \"ENDAN WELFARE INCOMP\", \"DISRUPTION OF A RELIGIOUS SERVICE\"\n",
    "    ],\n",
    "    \"Miscellaneous and Specific Offenses\": [\n",
    "        \"GAMBLING\", \"FORTUNE TELLING\", \"ALCOHOLIC BEVERAGE CONTROL LAW\", \"JOSTLING\", \n",
    "        \"OTHER OFFENSES RELATED TO THEFT\", \"OFFENSES AGAINST PUBLIC SAFETY\", \n",
    "        \"OTHER TRAFFIC INFRACTION\", \"NYS LAWS-UNCLASSIFIED VIOLATION\", \n",
    "        \"NYS LAWS-UNCLASSIFIED FELONY\", \"ABORTION\", \"FELONY SEX CRIMES\", \n",
    "        \"CANNABIS RELATED OFFENSES\", \"HARRASSMENT 2\"\n",
    "    ]\n",
    "}\n",
    "\n",
    "\n",
    "import pandas as pd\n",
    "\n",
    "\n",
    "# Function to categorize each offense\n",
    "def categorize_crime(offense):\n",
    "    for category, crimes in crime_categories.items():\n",
    "        if offense in crimes:\n",
    "            return category\n",
    "    return \"Other\"  # for crimes not listed in the dictionary\n",
    "\n",
    "# Apply the categorization to the 'OFNS_DESC' column\n",
    "initial_df['Crime_Category'] = initial_df['OFNS_DESC'].apply(categorize_crime)\n",
    "\n",
    "# Check the first few rows to verify the new column\n",
    "initial_df.head()"
   ]
  },
  {
   "cell_type": "code",
   "execution_count": null,
   "id": "85aaf88e",
   "metadata": {},
   "outputs": [],
   "source": [
    "# Count the number of NaN values per column\n",
    "nan_counts = initial_df.isna().sum()\n",
    "\n",
    "# Print the NaN counts\n",
    "print(nan_counts)"
   ]
  },
  {
   "cell_type": "code",
   "execution_count": null,
   "id": "df9ffb04",
   "metadata": {},
   "outputs": [],
   "source": [
    "import pandas as pd\n",
    "from pathlib import Path\n",
    "\n",
    "file_path = '../data/NYPD_Complaint_Data_Historic_Cleaned_Reduced_Mapped.csv'\n",
    "\n",
    "initial_df.to_csv(file_path, index=False)\n",
    "print(f\"Data saved to {file_path}\")\n"
   ]
  },
  {
   "cell_type": "code",
   "execution_count": null,
   "id": "2f4836e2",
   "metadata": {},
   "outputs": [],
   "source": [
    "# Store data to MongoDB for later merging with Property Data\n",
    "from pymongo import MongoClient\n",
    "\n",
    "MONGO_URI = 'mongodb://localhost:27017/'\n",
    "DB_NAME = 'crime_database'\n",
    "COLLECTION_NAME = 'crime_data'\n",
    "\n",
    "def populate_db():\n",
    "\n",
    "    # Combine LATITUDE and LONGITUDE into GeoJSON format\n",
    "    initial_df['location'] = initial_df.apply(lambda row: {'type': 'Point', 'coordinates': [row['Longitude'], row['Latitude']]}, axis=1)\n",
    "\n",
    "    # Convert the DataFrame to a dictionary format\n",
    "    data = initial_df.to_dict(orient='records')\n",
    "\n",
    "    # Establish a connection to MongoDB\n",
    "    client = MongoClient(MONGO_URI)\n",
    "\n",
    "    # Specify the database and collection\n",
    "    db = client[DB_NAME]\n",
    "    collection = db[COLLECTION_NAME]\n",
    "\n",
    "    # Drop the collection if it exists to start fresh\n",
    "    collection.drop()\n",
    "\n",
    "    # Insert the data into the collection\n",
    "    collection.insert_many(data)\n",
    "\n",
    "    # Create a geospatial index on the location field\n",
    "    collection.create_index([('location', '2dsphere')])\n",
    "\n",
    "    print(\"Data has been successfully inserted into MongoDB with geospatial indexing.\")\n",
    "\n",
    "populate_db()"
   ]
  }
 ],
 "metadata": {
  "kernelspec": {
   "display_name": "Python 3 (ipykernel)",
   "language": "python",
   "name": "python3"
  },
  "language_info": {
   "codemirror_mode": {
    "name": "ipython",
    "version": 3
   },
   "file_extension": ".py",
   "mimetype": "text/x-python",
   "name": "python",
   "nbconvert_exporter": "python",
   "pygments_lexer": "ipython3",
   "version": "3.11.5"
  }
 },
 "nbformat": 4,
 "nbformat_minor": 5
}
