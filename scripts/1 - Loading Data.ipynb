{
 "cells": [
  {
   "cell_type": "code",
   "execution_count": 1,
   "id": "8d629aa7",
   "metadata": {},
   "outputs": [],
   "source": [
    "# Load the larger data sets from AWS S3\n",
    "# NYPD_Complaints.csv \n",
    "# - original source https://data.cityofnewyork.us/Public-Safety/NYPD-Complaint-Data-Historic/qgea-i56i/about_data\n",
    "# NYC Mental Health Data \n",
    "# - original source https://data.cityofnewyork.us/Health/Mental-Health-Service-Finder-Data/8nqg-ia7v/about_data\n",
    "# NYC Census Block and Census Tracts Data original sources:\n",
    "# - original source https://www.kaggle.com/datasets/muonneutrino/new-york-city-census-data?select=census_block_loc.csv\n",
    "# - original source https://www.kaggle.com/datasets/muonneutrino/new-york-city-census-data?select=nyc_census_tracts.csv"
   ]
  },
  {
   "cell_type": "code",
   "execution_count": 2,
   "id": "3963fdaf",
   "metadata": {},
   "outputs": [],
   "source": [
    "from file_downloader import FileDownloader  # Assuming you save the class in a file_downloader.py file\n",
    "\n",
    "downloader = FileDownloader(data_directory='../data')"
   ]
  },
  {
   "cell_type": "code",
   "execution_count": 3,
   "id": "1eb0d7f4",
   "metadata": {},
   "outputs": [
    {
     "data": {
      "application/vnd.jupyter.widget-view+json": {
       "model_id": "bd8ad7f6bbfd44b3b62697f50070d610",
       "version_major": 2,
       "version_minor": 0
      },
      "text/plain": [
       "Downloading NYPD_Complaint_Data_Historic.csv:   0%|          | 0.00/3.03G [00:00<?, ?iB/s]"
      ]
     },
     "metadata": {},
     "output_type": "display_data"
    },
    {
     "name": "stdout",
     "output_type": "stream",
     "text": [
      "File downloaded successfully and saved to ../data/NYPD_Complaint_Data_Historic.csv\n",
      "File has been downloaded and saved to: ../data/NYPD_Complaint_Data_Historic.csv\n"
     ]
    }
   ],
   "source": [
    "# NYPD Complaint data\n",
    "url = 'https://mf-data-analytics.s3.eu-west-1.amazonaws.com/NYPD_Complaint_Data_Historic.csv'\n",
    "\n",
    "# Filename you want to save it as\n",
    "filename = 'NYPD_Complaint_Data_Historic.csv'\n",
    "\n",
    "downloaded_file_path = downloader.download_file(url, filename)\n",
    "print(f'File has been downloaded and saved to: {downloaded_file_path}')"
   ]
  },
  {
   "cell_type": "code",
   "execution_count": 4,
   "id": "9be622eb",
   "metadata": {},
   "outputs": [
    {
     "data": {
      "application/vnd.jupyter.widget-view+json": {
       "model_id": "412c2e4d193246099f1351427a9dce2d",
       "version_major": 2,
       "version_minor": 0
      },
      "text/plain": [
       "Downloading NYC_Mental_Health_Service_Finder_Data.csv:   0%|          | 0.00/89.1k [00:00<?, ?iB/s]"
      ]
     },
     "metadata": {},
     "output_type": "display_data"
    },
    {
     "name": "stdout",
     "output_type": "stream",
     "text": [
      "File downloaded successfully and saved to ../data/NYC_Mental_Health_Service_Finder_Data.csv\n",
      "File has been downloaded and saved to: ../data/NYC_Mental_Health_Service_Finder_Data.csv\n"
     ]
    }
   ],
   "source": [
    "# Mental_Health_Service_Finder_Data\n",
    "url = 'https://mf-data-analytics.s3.eu-west-1.amazonaws.com/Mental_Health_Service_Finder_Data_20240816.csv'\n",
    "\n",
    "filename = 'NYC_Mental_Health_Service_Finder_Data.csv'\n",
    "\n",
    "downloaded_file_path = downloader.download_file(url, filename)\n",
    "print(f'File has been downloaded and saved to: {downloaded_file_path}')"
   ]
  },
  {
   "cell_type": "code",
   "execution_count": 5,
   "id": "e0dd9cea",
   "metadata": {},
   "outputs": [
    {
     "data": {
      "application/vnd.jupyter.widget-view+json": {
       "model_id": "d1eb6ea8c88449ffb2e332945876375b",
       "version_major": 2,
       "version_minor": 0
      },
      "text/plain": [
       "Downloading NYC_census_block_loc.csv:   0%|          | 0.00/2.17M [00:00<?, ?iB/s]"
      ]
     },
     "metadata": {},
     "output_type": "display_data"
    },
    {
     "name": "stdout",
     "output_type": "stream",
     "text": [
      "File downloaded successfully and saved to ../data/NYC_census_block_loc.csv\n",
      "File has been downloaded and saved to: ../data/NYC_census_block_loc.csv\n"
     ]
    }
   ],
   "source": [
    "# NYC_census_block_loc\n",
    "url = 'https://mf-data-analytics.s3.eu-west-1.amazonaws.com/census_block_loc.csv'\n",
    "\n",
    "filename = 'NYC_census_block_loc.csv'\n",
    "\n",
    "downloaded_file_path = downloader.download_file(url, filename)\n",
    "print(f'File has been downloaded and saved to: {downloaded_file_path}')"
   ]
  },
  {
   "cell_type": "code",
   "execution_count": 6,
   "id": "730e498a",
   "metadata": {},
   "outputs": [
    {
     "data": {
      "application/vnd.jupyter.widget-view+json": {
       "model_id": "48b313601f6747938cfb259e16bd7729",
       "version_major": 2,
       "version_minor": 0
      },
      "text/plain": [
       "Downloading NYC_census_tracts.csv:   0%|          | 0.00/320k [00:00<?, ?iB/s]"
      ]
     },
     "metadata": {},
     "output_type": "display_data"
    },
    {
     "name": "stdout",
     "output_type": "stream",
     "text": [
      "File downloaded successfully and saved to ../data/NYC_census_tracts.csv\n",
      "File has been downloaded and saved to: ../data/NYC_census_tracts.csv\n"
     ]
    }
   ],
   "source": [
    "# nyc_census_tracts\n",
    "url = 'https://mf-data-analytics.s3.eu-west-1.amazonaws.com/nyc_census_tracts.csv'\n",
    "\n",
    "filename = 'NYC_census_tracts.csv'\n",
    "\n",
    "downloaded_file_path = downloader.download_file(url, filename)\n",
    "print(f'File has been downloaded and saved to: {downloaded_file_path}')"
   ]
  }
 ],
 "metadata": {
  "kernelspec": {
   "display_name": "Python 3 (ipykernel)",
   "language": "python",
   "name": "python3"
  },
  "language_info": {
   "codemirror_mode": {
    "name": "ipython",
    "version": 3
   },
   "file_extension": ".py",
   "mimetype": "text/x-python",
   "name": "python",
   "nbconvert_exporter": "python",
   "pygments_lexer": "ipython3",
   "version": "3.11.5"
  }
 },
 "nbformat": 4,
 "nbformat_minor": 5
}
