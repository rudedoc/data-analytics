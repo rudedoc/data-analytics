{
 "cells": [
  {
   "cell_type": "code",
   "execution_count": 1,
   "id": "8d629aa7",
   "metadata": {},
   "outputs": [],
   "source": [
    "# Load the larger data sets from AWS S3\n",
    "# NYPD_Complaints.csv mirror of https://data.cityofnewyork.us/Public-Safety/NYPD-Complaint-Data-Historic/qgea-i56i/about_data\n",
    "# NYC Property Valuation and Assessment original source: https://data.cityofnewyork.us/City-Government/Property-Valuation-and-Assessment-Data/yjxr-fw8i/about_data\n",
    "# NYC Mental Health Data"
   ]
  },
  {
   "cell_type": "code",
   "execution_count": 2,
   "id": "3963fdaf",
   "metadata": {},
   "outputs": [],
   "source": [
    "import requests\n",
    "from tqdm.notebook import tqdm\n",
    "import os\n",
    "\n",
    "# Define the directory constant\n",
    "DATA_DIRECTORY = '../data'\n",
    "\n",
    "def download_file(url, filename):\n",
    "    \"\"\"\n",
    "    Download a file from a given URL into a specified directory with a specified filename.\n",
    "\n",
    "    Args:\n",
    "    url (str): URL of the file to be downloaded.\n",
    "    directory (str): Directory where the file will be saved.\n",
    "    filename (str): Name of the file to be saved.\n",
    "\n",
    "    Returns:\n",
    "    str: Path to the downloaded file.\n",
    "    \"\"\"\n",
    "    # Ensure the directory exists\n",
    "    if not os.path.exists(DATA_DIRECTORY):\n",
    "        os.makedirs(DATA_DIRECTORY)\n",
    "    \n",
    "    # Define the full path for the new file\n",
    "    file_path = os.path.join(DATA_DIRECTORY, filename)\n",
    "    \n",
    "    # Start the download\n",
    "    response = requests.get(url, stream=True)\n",
    "    response.raise_for_status()  # To ensure we notice bad responses\n",
    "    \n",
    "    # Get the total file size from header (if available)\n",
    "    total_size = int(response.headers.get('content-length', 0))\n",
    "    \n",
    "    # Initialize the progress bar from tqdm.notebook\n",
    "    with tqdm(total=total_size, unit='iB', unit_scale=True, desc=f\"Downloading {filename}\") as progress_bar:\n",
    "        with open(file_path, 'wb') as f:\n",
    "            for chunk in response.iter_content(chunk_size=8192):\n",
    "                if chunk:  # Filter out keep-alive new chunks\n",
    "                    progress_bar.update(len(chunk))\n",
    "                    f.write(chunk)\n",
    "    \n",
    "    return file_path\n",
    "\n"
   ]
  },
  {
   "cell_type": "code",
   "execution_count": 3,
   "id": "1eb0d7f4",
   "metadata": {},
   "outputs": [],
   "source": [
    "# NYPD Complaint data\n",
    "url = 'https://mf-data-analytics.s3.eu-west-1.amazonaws.com/NYPD_Complaint_Data_Historic.csv'\n",
    "\n",
    "# Filename you want to save it as\n",
    "filename = 'NYPD_Complaint_Data_Historic.csv'\n",
    "\n",
    "# Call the function and print the path to the downloaded file\n",
    "downloaded_file_path = download_file(url, filename)\n",
    "print(f'File has been downloaded and saved to: {downloaded_file_path}')\n"
   ]
  },
  {
   "cell_type": "code",
   "execution_count": 4,
   "id": "1394d319",
   "metadata": {},
   "outputs": [],
   "source": [
    "# URL for the file you want to download\n",
    "url = 'https://mf-data-analytics.s3.eu-west-1.amazonaws.com/NYC_Property_Valuation_and_Assessment.csv'\n",
    "\n",
    "\n",
    "# Filename you want to save it as\n",
    "filename = 'NYC_Property_Valuation_and_Assessment.csv'\n",
    "\n",
    "# Call the function and print the path to the downloaded file\n",
    "downloaded_file_path = download_file(url, filename)\n",
    "print(f'File has been downloaded and saved to: {downloaded_file_path}')\n"
   ]
  },
  {
   "cell_type": "code",
   "execution_count": 5,
   "id": "9be622eb",
   "metadata": {},
   "outputs": [
    {
     "data": {
      "application/vnd.jupyter.widget-view+json": {
       "model_id": "781f2fa170474ce08a9b4e6ad9447de3",
       "version_major": 2,
       "version_minor": 0
      },
      "text/plain": [
       "Downloading NYC_Local_Mental_Health_Programs.csv:   0%|          | 0.00/2.31M [00:00<?, ?iB/s]"
      ]
     },
     "metadata": {},
     "output_type": "display_data"
    },
    {
     "name": "stdout",
     "output_type": "stream",
     "text": [
      "File has been downloaded and saved to: ../data/NYC_Local_Mental_Health_Programs.csv\n"
     ]
    }
   ],
   "source": [
    "# URL for the file you want to download\n",
    "url = 'https://mf-data-analytics.s3.eu-west-1.amazonaws.com/local-mental-health-programs.csv'\n",
    "\n",
    "\n",
    "# Filename you want to save it as\n",
    "filename = 'NYC_Local_Mental_Health_Programs.csv'\n",
    "\n",
    "# Call the function and print the path to the downloaded file\n",
    "downloaded_file_path = download_file(url, filename)\n",
    "print(f'File has been downloaded and saved to: {downloaded_file_path}')"
   ]
  }
 ],
 "metadata": {
  "kernelspec": {
   "display_name": "Python 3 (ipykernel)",
   "language": "python",
   "name": "python3"
  },
  "language_info": {
   "codemirror_mode": {
    "name": "ipython",
    "version": 3
   },
   "file_extension": ".py",
   "mimetype": "text/x-python",
   "name": "python",
   "nbconvert_exporter": "python",
   "pygments_lexer": "ipython3",
   "version": "3.11.5"
  }
 },
 "nbformat": 4,
 "nbformat_minor": 5
}
