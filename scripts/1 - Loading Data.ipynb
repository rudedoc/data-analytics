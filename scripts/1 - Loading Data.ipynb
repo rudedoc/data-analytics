{
 "cells": [
  {
   "cell_type": "code",
   "execution_count": 1,
   "id": "8d629aa7",
   "metadata": {},
   "outputs": [],
   "source": [
    "# Load the larger data sets from AWS S3\n",
    "# NYPD_Complaints.csv \n",
    "# - original source https://data.cityofnewyork.us/Public-Safety/NYPD-Complaint-Data-Historic/qgea-i56i/about_data\n",
    "# NYC Mental Health Data \n",
    "# - original source https://data.cityofnewyork.us/Health/Mental-Health-Service-Finder-Data/8nqg-ia7v/about_data\n",
    "# NYC Census Block and Census Tracts Data original sources:\n",
    "# - original source https://www.kaggle.com/datasets/muonneutrino/new-york-city-census-data?select=census_block_loc.csv\n",
    "# - original source https://www.kaggle.com/datasets/muonneutrino/new-york-city-census-data?select=nyc_census_tracts.csv"
   ]
  },
  {
   "cell_type": "code",
   "execution_count": 2,
   "id": "3963fdaf",
   "metadata": {},
   "outputs": [],
   "source": [
    "import requests\n",
    "from tqdm.notebook import tqdm\n",
    "import os\n",
    "\n",
    "# Define the directory constant\n",
    "DATA_DIRECTORY = '../data'\n",
    "\n",
    "def download_file(url, filename):\n",
    "    \"\"\"\n",
    "    Download a file from a given URL into a specified directory with a specified filename.\n",
    "\n",
    "    Args:\n",
    "    url (str): URL of the file to be downloaded.\n",
    "    directory (str): Directory where the file will be saved.\n",
    "    filename (str): Name of the file to be saved.\n",
    "\n",
    "    Returns:\n",
    "    str: Path to the downloaded file.\n",
    "    \"\"\"\n",
    "    # Ensure the directory exists\n",
    "    if not os.path.exists(DATA_DIRECTORY):\n",
    "        os.makedirs(DATA_DIRECTORY)\n",
    "    \n",
    "    # Define the full path for the new file\n",
    "    file_path = os.path.join(DATA_DIRECTORY, filename)\n",
    "    \n",
    "    # Start the download\n",
    "    response = requests.get(url, stream=True)\n",
    "    response.raise_for_status()  # To ensure we notice bad responses\n",
    "    \n",
    "    # Get the total file size from header (if available)\n",
    "    total_size = int(response.headers.get('content-length', 0))\n",
    "    \n",
    "    # Initialize the progress bar from tqdm.notebook\n",
    "    with tqdm(total=total_size, unit='iB', unit_scale=True, desc=f\"Downloading {filename}\") as progress_bar:\n",
    "        with open(file_path, 'wb') as f:\n",
    "            for chunk in response.iter_content(chunk_size=8192):\n",
    "                if chunk:  # Filter out keep-alive new chunks\n",
    "                    progress_bar.update(len(chunk))\n",
    "                    f.write(chunk)\n",
    "    \n",
    "    return file_path\n",
    "\n"
   ]
  },
  {
   "cell_type": "code",
   "execution_count": 3,
   "id": "1eb0d7f4",
   "metadata": {},
   "outputs": [
    {
     "data": {
      "application/vnd.jupyter.widget-view+json": {
       "model_id": "d0d25bad5deb4d35acabc3f6e2ac15ec",
       "version_major": 2,
       "version_minor": 0
      },
      "text/plain": [
       "Downloading NYPD_Complaint_Data_Historic.csv:   0%|          | 0.00/3.03G [00:00<?, ?iB/s]"
      ]
     },
     "metadata": {},
     "output_type": "display_data"
    },
    {
     "name": "stdout",
     "output_type": "stream",
     "text": [
      "File has been downloaded and saved to: ../data/NYPD_Complaint_Data_Historic.csv\n"
     ]
    }
   ],
   "source": [
    "# NYPD Complaint data\n",
    "url = 'https://mf-data-analytics.s3.eu-west-1.amazonaws.com/NYPD_Complaint_Data_Historic.csv'\n",
    "\n",
    "# Filename you want to save it as\n",
    "filename = 'NYPD_Complaint_Data_Historic.csv'\n",
    "\n",
    "# Call the function and print the path to the downloaded file\n",
    "downloaded_file_path = download_file(url, filename)\n",
    "print(f'File has been downloaded and saved to: {downloaded_file_path}')\n"
   ]
  },
  {
   "cell_type": "code",
   "execution_count": 8,
   "id": "9be622eb",
   "metadata": {},
   "outputs": [
    {
     "data": {
      "application/vnd.jupyter.widget-view+json": {
       "model_id": "efbbc103b2054a49971916e5a8ccab0e",
       "version_major": 2,
       "version_minor": 0
      },
      "text/plain": [
       "Downloading NYC_Mental_Health_Service_Finder_Data.csv:   0%|          | 0.00/89.1k [00:00<?, ?iB/s]"
      ]
     },
     "metadata": {},
     "output_type": "display_data"
    },
    {
     "name": "stdout",
     "output_type": "stream",
     "text": [
      "File has been downloaded and saved to: ../data/NYC_Mental_Health_Service_Finder_Data.csv\n"
     ]
    }
   ],
   "source": [
    "# URL for the file you want to download\n",
    "url = 'https://mf-data-analytics.s3.eu-west-1.amazonaws.com/Mental_Health_Service_Finder_Data_20240816.csv'\n",
    "\n",
    "\n",
    "# Filename you want to save it as\n",
    "filename = 'NYC_Mental_Health_Service_Finder_Data.csv'\n",
    "\n",
    "# Call the function and print the path to the downloaded file\n",
    "downloaded_file_path = download_file(url, filename)\n",
    "print(f'File has been downloaded and saved to: {downloaded_file_path}')"
   ]
  },
  {
   "cell_type": "code",
   "execution_count": 6,
   "id": "e0dd9cea",
   "metadata": {},
   "outputs": [
    {
     "data": {
      "application/vnd.jupyter.widget-view+json": {
       "model_id": "a4f17b6edf704db28957cbf40957714c",
       "version_major": 2,
       "version_minor": 0
      },
      "text/plain": [
       "Downloading NYC_census_block_loc.csv:   0%|          | 0.00/2.17M [00:00<?, ?iB/s]"
      ]
     },
     "metadata": {},
     "output_type": "display_data"
    },
    {
     "name": "stdout",
     "output_type": "stream",
     "text": [
      "File has been downloaded and saved to: ../data/NYC_census_block_loc.csv\n"
     ]
    }
   ],
   "source": [
    "url = 'https://mf-data-analytics.s3.eu-west-1.amazonaws.com/census_block_loc.csv'\n",
    "\n",
    "filename = 'NYC_census_block_loc.csv'\n",
    "\n",
    "# Call the function and print the path to the downloaded file\n",
    "downloaded_file_path = download_file(url, filename)\n",
    "print(f'File has been downloaded and saved to: {downloaded_file_path}')"
   ]
  },
  {
   "cell_type": "code",
   "execution_count": 7,
   "id": "730e498a",
   "metadata": {},
   "outputs": [
    {
     "data": {
      "application/vnd.jupyter.widget-view+json": {
       "model_id": "186fee3e2ec841f8b2203fde506a79cb",
       "version_major": 2,
       "version_minor": 0
      },
      "text/plain": [
       "Downloading NYC_census_tracts.csv:   0%|          | 0.00/320k [00:00<?, ?iB/s]"
      ]
     },
     "metadata": {},
     "output_type": "display_data"
    },
    {
     "name": "stdout",
     "output_type": "stream",
     "text": [
      "File has been downloaded and saved to: ../data/NYC_census_tracts.csv\n"
     ]
    }
   ],
   "source": [
    "url = 'https://mf-data-analytics.s3.eu-west-1.amazonaws.com/nyc_census_tracts.csv'\n",
    "\n",
    "filename = 'NYC_census_tracts.csv'\n",
    "\n",
    "# Call the function and print the path to the downloaded file\n",
    "downloaded_file_path = download_file(url, filename)\n",
    "print(f'File has been downloaded and saved to: {downloaded_file_path}')"
   ]
  }
 ],
 "metadata": {
  "kernelspec": {
   "display_name": "Python 3 (ipykernel)",
   "language": "python",
   "name": "python3"
  },
  "language_info": {
   "codemirror_mode": {
    "name": "ipython",
    "version": 3
   },
   "file_extension": ".py",
   "mimetype": "text/x-python",
   "name": "python",
   "nbconvert_exporter": "python",
   "pygments_lexer": "ipython3",
   "version": "3.11.5"
  }
 },
 "nbformat": 4,
 "nbformat_minor": 5
}
